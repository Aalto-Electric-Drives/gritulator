{
 "cells": [
  {
   "cell_type": "markdown",
   "id": "44e75820",
   "metadata": {},
   "source": [
    "# Welcome to this tutorial\n",
    "\n",
    "This is a basic tutorial on how to use the motulator. In order to plot matlab figures on to the jupyter notebook interface, first run the jupyter notebook magic command below:"
   ]
  },
  {
   "cell_type": "code",
   "execution_count": null,
   "id": "87e21145",
   "metadata": {},
   "outputs": [],
   "source": [
    "%matplotlib inline"
   ]
  },
  {
   "cell_type": "markdown",
   "id": "47af7fbe",
   "metadata": {},
   "source": [
    "# Usage\n",
    "\n",
    "Install motulator by using the pip command:"
   ]
  },
  {
   "cell_type": "code",
   "execution_count": null,
   "id": "49e258f9",
   "metadata": {},
   "outputs": [],
   "source": [
    "!pip install motulator"
   ]
  },
  {
   "cell_type": "markdown",
   "id": "b4a470c1",
   "metadata": {},
   "source": [
    "After installation, motulator can be used by creating a continuous-time system model, a discrete-time controller, and a simulation object, as shown below:"
   ]
  },
  {
   "cell_type": "code",
   "execution_count": null,
   "id": "65385f5f",
   "metadata": {},
   "outputs": [],
   "source": [
    "import motulator as mt\n",
    "\n",
    "# Continuous-time model for the drive system\n",
    "motor = mt.InductionMotor()     # Motor model\n",
    "mech = mt.Mechanics()           # Mechanics model\n",
    "conv = mt.Inverter()            # Converter model\n",
    "mdl = mt.InductionMotorDrive(motor, mech, conv)\n",
    "\n",
    "# Discrete-time controller\n",
    "pars = mt.InductionMotorVectorCtrlPars()    # Dataclass of control parameters\n",
    "ctrl = mt.InductionMotorVectorCtrl(pars)    # Sensorless controller\n",
    "\n",
    "# Create a simulation object, simulate, and plot example figures\n",
    "sim = mt.Simulation(mdl, ctrl)\n",
    "sim.simulate()\n",
    "mt.plot(sim)"
   ]
  },
  {
   "cell_type": "markdown",
   "id": "1066b862",
   "metadata": {},
   "source": [
    "# Configuration of parameters\n",
    "Motulator simulation tool is based on the control of an induction motor or synchronous motor drive. Motulator includes scalar control (or Volts-per-Hertz-control) and rotor-flux-oriented vector control. In order to build the link between the continuous-time design and discrete-time implementation, all the control algorithms are implemented in the discrete-time domain based on forward Euler approximation.\n",
    "\n",
    "The module motulator/model/im.py describes the induction motor model data according to the Γ model (Gamma model). The Γ model is chosen, since it can be extended with the magnetic saturation model in a staightforward manner. If the magnetic saturation is omitted, the Γ model is mathematically identical to the inverse-Γ model of the induction motor, which is shown below:\n",
    "\n",
    "<img src=\"Inverse-gamma_model.png\"/>\n",
    "\n",
    "Motor model can be created by constructing the induction motor object as shown below:"
   ]
  },
  {
   "cell_type": "code",
   "execution_count": null,
   "id": "91d8b9c4",
   "metadata": {},
   "outputs": [],
   "source": [
    "import motulator as mt"
   ]
  },
  {
   "cell_type": "code",
   "execution_count": null,
   "id": "bf92cca0",
   "metadata": {},
   "outputs": [],
   "source": [
    "# Motor model with custom parameters\n",
    "motor = mt.InductionMotor(R_s=3.7, R_r=2.5, L_ell=.023, L_s=.245, p=2)"
   ]
  },
  {
   "cell_type": "markdown",
   "id": "ab9d929b",
   "metadata": {},
   "source": [
    "Here the motor parameters mean the following: R_s is stator resistance, R_r is rotor resistance, L_ell is leakage inductance, L_s is stator inductance and p is the number of pole pairs. The value of parameters R_s, R_r, L_ell, L_s and p can be configured by changing their values when passing to mt.InductionMotor constructor.\n",
    "\n",
    "The rated values of the motor are important for configuring how figures are plotted:"
   ]
  },
  {
   "cell_type": "code",
   "execution_count": null,
   "id": "f0ad493b",
   "metadata": {},
   "outputs": [],
   "source": [
    "# Compute base values based on the nominal values (just for figures)\n",
    "base = mt.BaseValues(U_nom=400,        # Line-line rms voltage\n",
    "                     I_nom=5,          # Rms current\n",
    "                     f_nom=50,         # Frequency\n",
    "                     tau_nom=14.6,     # Torque\n",
    "                     P_nom=2.2e3,      # Power\n",
    "                     p=2)              # Number of pole pairs"
   ]
  },
  {
   "cell_type": "markdown",
   "id": "4d783ed7",
   "metadata": {},
   "source": [
    "To configure the mechanics model and converter model parameters, the following parameters are passed into their class constructors:"
   ]
  },
  {
   "cell_type": "code",
   "execution_count": null,
   "id": "13f3bcab",
   "metadata": {},
   "outputs": [],
   "source": [
    "mech = mt.Mechanics(J=.015)         # Mechanics model with custom parameters\n",
    "conv = mt.Inverter(u_dc0=540)       # Inverter model with custom parameters"
   ]
  },
  {
   "cell_type": "markdown",
   "id": "13eefb0e",
   "metadata": {},
   "source": [
    "Here J is the total moment of inertia of the motor and u_dc0 is the DC-bus voltage of inverter. After all of that has been configured, the continuous-time model for an induction motor drive can be constructed with the following command:"
   ]
  },
  {
   "cell_type": "code",
   "execution_count": null,
   "id": "e5e7ac34",
   "metadata": {},
   "outputs": [],
   "source": [
    "mdl = mt.InductionMotorDrive(motor, mech, conv)  # System model"
   ]
  },
  {
   "cell_type": "markdown",
   "id": "28c568eb",
   "metadata": {},
   "source": [
    "This interconnects the subsystems of an induction motor drive and provides an interface for the solver. More complicated systems could be modeled using a similar template.\n",
    "\n",
    "Motulator includes Volts-per-Hertz-control and rotor-flux-oriented vector control, which are configured similarly to how the system model is configured. In the case of vector control, the configuration for the parameters of the control system can look something like this:"
   ]
  },
  {
   "cell_type": "code",
   "execution_count": null,
   "id": "f7fdc036",
   "metadata": {},
   "outputs": [],
   "source": [
    "import numpy as np"
   ]
  },
  {
   "cell_type": "code",
   "execution_count": null,
   "id": "c7e23a41",
   "metadata": {},
   "outputs": [],
   "source": [
    "# Control system\n",
    "ctrl = mt.InductionMotorVectorCtrl(mt.InductionMotorVectorCtrlPars(\n",
    "    sensorless=True,                # Enable sensorless mode\n",
    "    T_s=250e-6,                     # Sampling period\n",
    "    delay=1,                        # Amount of computational delay\n",
    "    alpha_c=2*np.pi*200,            # Current-control bandwidth\n",
    "    alpha_o=2*np.pi*40,             # Observer bandwidth\n",
    "    alpha_s=2*np.pi*4,              # Speed-control bandwidth\n",
    "    psi_R_nom=.9,                   # Nominal rotor flux\n",
    "    i_s_max=1.5*base.i,             # Current limit\n",
    "    tau_M_max=1.5*base.tau_nom,     # Torque limit (for the speed ctrl)\n",
    "    J=.015,                         # Inertia estimate (for the speed ctrl)\n",
    "    p=2,                            # Number of pole pairs\n",
    "    # Inverse-Gamma model parameter estimates\n",
    "    R_s=3.7, R_R=2.1, L_sgm=.021, L_M=.224))"
   ]
  },
  {
   "cell_type": "markdown",
   "id": "450f3a25",
   "metadata": {},
   "source": [
    "Speed reference and the external load torque for the induction motors can be configured in this way:"
   ]
  },
  {
   "cell_type": "code",
   "execution_count": null,
   "id": "981b15b4",
   "metadata": {},
   "outputs": [],
   "source": [
    "# Set the speed reference and the external load torque\n",
    "ctrl.w_m_ref = lambda t: (t > .2)*(.5*base.w)\n",
    "mdl.mech.tau_L_ext = lambda t: (t > .75)*base.tau_nom"
   ]
  },
  {
   "cell_type": "markdown",
   "id": "97d335e0",
   "metadata": {},
   "source": [
    "Simulation object has a simulate function, that solves the continuous-time model and calls the discrete-time controller. Base values for plotting figures is determined by base parameter and the simulation stop time is determined by t_stop parameter (which is 1 by default). Simulation object is created as follows:"
   ]
  },
  {
   "cell_type": "code",
   "execution_count": null,
   "id": "b4d40052",
   "metadata": {},
   "outputs": [],
   "source": [
    "# Create the simulation object\n",
    "sim = mt.Simulation(mdl, ctrl, base=base, t_stop=1.5)"
   ]
  },
  {
   "cell_type": "markdown",
   "id": "81f4bb79",
   "metadata": {},
   "source": [
    "To simulate the simulation object, run the command:"
   ]
  },
  {
   "cell_type": "code",
   "execution_count": null,
   "id": "9f94e5b5",
   "metadata": {},
   "outputs": [],
   "source": [
    "sim.simulate()"
   ]
  },
  {
   "cell_type": "markdown",
   "id": "16b002c6",
   "metadata": {},
   "source": [
    "Plotting can be done either by plotting figures in SI units:"
   ]
  },
  {
   "cell_type": "code",
   "execution_count": null,
   "id": "2e6d83ac",
   "metadata": {},
   "outputs": [],
   "source": [
    "mt.plot(sim)"
   ]
  },
  {
   "cell_type": "markdown",
   "id": "54fc70ba",
   "metadata": {},
   "source": [
    "Or alternatively plotting figures in per units:"
   ]
  },
  {
   "cell_type": "code",
   "execution_count": null,
   "id": "ce345f9c",
   "metadata": {},
   "outputs": [],
   "source": [
    "mt.plot_pu(sim)"
   ]
  },
  {
   "cell_type": "markdown",
   "id": "900958e5",
   "metadata": {},
   "source": [
    "In this tutorial, induction motor was used to simulate the model. However, motulator also supports functionality for  synchronous motors and more. There are example scripts in motulator/examples that show similar configurations for different motor types. More detailed information on configuration parameters can be found from the motulator documentation API reference."
   ]
  }
 ],
 "metadata": {
  "kernelspec": {
   "display_name": "Python 3 (ipykernel)",
   "language": "python",
   "name": "python3"
  },
  "language_info": {
   "codemirror_mode": {
    "name": "ipython",
    "version": 3
   },
   "file_extension": ".py",
   "mimetype": "text/x-python",
   "name": "python",
   "nbconvert_exporter": "python",
   "pygments_lexer": "ipython3",
   "version": "3.10.4"
  }
 },
 "nbformat": 4,
 "nbformat_minor": 5
}
