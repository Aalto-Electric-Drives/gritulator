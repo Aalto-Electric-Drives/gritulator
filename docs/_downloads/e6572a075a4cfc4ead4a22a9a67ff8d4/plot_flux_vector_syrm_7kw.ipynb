{
  "cells": [
    {
      "cell_type": "markdown",
      "metadata": {},
      "source": [
        "\n# Flux-vector control: 6.7-kW SyRM\n\nThis example simulates sensorless stator-flux-vector control of a saturated\n6.7-kW synchronous reluctance motor drive. The saturation is not taken into\naccount in the control method (only in the system model).\n"
      ]
    },
    {
      "cell_type": "markdown",
      "metadata": {},
      "source": [
        "Import the packages.\n\n"
      ]
    },
    {
      "cell_type": "code",
      "execution_count": null,
      "metadata": {
        "collapsed": false
      },
      "outputs": [],
      "source": [
        "import numpy as np\nimport motulator as mt"
      ]
    },
    {
      "cell_type": "markdown",
      "metadata": {},
      "source": [
        "Compute base values based on the nominal values (just for figures).\n\n"
      ]
    },
    {
      "cell_type": "code",
      "execution_count": null,
      "metadata": {
        "collapsed": false
      },
      "outputs": [],
      "source": [
        "base = mt.BaseValues(\n    U_nom=370, I_nom=15.5, f_nom=105.8, tau_nom=20.1, P_nom=6.7e3, n_p=2)"
      ]
    },
    {
      "cell_type": "markdown",
      "metadata": {},
      "source": [
        "Create a saturation model, see the example\n:doc:`/auto_examples/vhz/plot_obs_vhz_ctrl_syrm_7kw` for further details.\n\n"
      ]
    },
    {
      "cell_type": "code",
      "execution_count": null,
      "metadata": {
        "collapsed": false
      },
      "outputs": [],
      "source": [
        "def i_s(psi_s):\n    \"\"\"Magnetic model for a 6.7-kW synchronous reluctance motor.\"\"\"\n    # Parameters\n    a_d0, a_dd, S = 17.4, 373., 5  # d-axis self-saturation\n    a_q0, a_qq, T = 52.1, 658., 1  # q-axis self-saturation\n    a_dq, U, V = 1120., 1, 0  # Cross-saturation\n    # Inverse inductance functions\n    G_d = a_d0 + a_dd*np.abs(psi_s.real)**S + (\n        a_dq/(V + 2)*np.abs(psi_s.real)**U*np.abs(psi_s.imag)**(V + 2))\n    G_q = a_q0 + a_qq*np.abs(psi_s.imag)**T + (\n        a_dq/(U + 2)*np.abs(psi_s.real)**(U + 2)*np.abs(psi_s.imag)**V)\n    # Stator current\n    return G_d*psi_s.real + 1j*G_q*psi_s.imag"
      ]
    },
    {
      "cell_type": "markdown",
      "metadata": {},
      "source": [
        "Configure the system model.\n\n"
      ]
    },
    {
      "cell_type": "code",
      "execution_count": null,
      "metadata": {
        "collapsed": false
      },
      "outputs": [],
      "source": [
        "mdl = mt.SynchronousMotorDrive()\nmdl.motor = mt.SynchronousMotorSaturated(n_p=2, R_s=.54, current=i_s)\nmdl.mech = mt.Mechanics(J=.015)\nmdl.conv = mt.Inverter(u_dc=540)\n# Magnetically linear SyRM model\n# mdl.motor = mt.SynchronousMotor(p=2, R_s=.54, L_d=37e-3, L_q=6.2e-3, psi_f=0)"
      ]
    },
    {
      "cell_type": "markdown",
      "metadata": {},
      "source": [
        "Configure the control system.\n\n"
      ]
    },
    {
      "cell_type": "code",
      "execution_count": null,
      "metadata": {
        "collapsed": false
      },
      "outputs": [],
      "source": [
        "pars = mt.SynchronousMotorFluxVectorCtrlPars(\n    sensorless=True,\n    T_s=250e-6,\n    # Disable MTPA since the control system does not consider the saturation\n    psi_s_min=base.psi,\n    psi_s_max=base.psi,\n    # Motor parameter estimates\n    R_s=.54,\n    L_d=37e-3,\n    L_q=6.2e-3,\n    psi_f=0,\n    n_p=2,\n    J=.015,\n    # Other controller parameters\n    alpha_psi=2*np.pi*50,\n    alpha_tau=2*np.pi*50,\n    alpha_s=2*np.pi*4,\n    w_o=2*np.pi*50,\n    tau_M_max=2*base.tau_nom,\n    i_s_max=2*base.i,\n)\nctrl = mt.SynchronousMotorFluxVectorCtrl(pars)"
      ]
    },
    {
      "cell_type": "markdown",
      "metadata": {},
      "source": [
        "Set the speed reference and the external load torque.\n\n"
      ]
    },
    {
      "cell_type": "code",
      "execution_count": null,
      "metadata": {
        "collapsed": false
      },
      "outputs": [],
      "source": [
        "# Speed reference\ntimes = np.array([0, .125, .25, .375, .5, .625, .75, .875, 1])*4\nvalues = np.array([0, 0, 1, 1, 0, -1, -1, 0, 0])*base.w\nctrl.w_m_ref = mt.Sequence(times, values)\n# External load torque\ntimes = np.array([0, .125, .125, .875, .875, 1])*4\nvalues = np.array([0, 0, 1, 1, 0, 0])*base.tau_nom\nmdl.mech.tau_L_t = mt.Sequence(times, values)"
      ]
    },
    {
      "cell_type": "markdown",
      "metadata": {},
      "source": [
        "Create the simulation object and simulate it.\n\n"
      ]
    },
    {
      "cell_type": "code",
      "execution_count": null,
      "metadata": {
        "collapsed": false
      },
      "outputs": [],
      "source": [
        "sim = mt.Simulation(mdl, ctrl, pwm=False)\nsim.simulate(t_stop=4)"
      ]
    },
    {
      "cell_type": "markdown",
      "metadata": {},
      "source": [
        "Plot results in per-unit values.\n\n"
      ]
    },
    {
      "cell_type": "code",
      "execution_count": null,
      "metadata": {
        "collapsed": false
      },
      "outputs": [],
      "source": [
        "mt.plot(sim, base=base)"
      ]
    }
  ],
  "metadata": {
    "kernelspec": {
      "display_name": "Python 3",
      "language": "python",
      "name": "python3"
    },
    "language_info": {
      "codemirror_mode": {
        "name": "ipython",
        "version": 3
      },
      "file_extension": ".py",
      "mimetype": "text/x-python",
      "name": "python",
      "nbconvert_exporter": "python",
      "pygments_lexer": "ipython3",
      "version": "3.8.2"
    }
  },
  "nbformat": 4,
  "nbformat_minor": 0
}