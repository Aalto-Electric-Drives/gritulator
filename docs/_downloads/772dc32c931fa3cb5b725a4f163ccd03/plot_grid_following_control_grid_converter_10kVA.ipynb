{
  "cells": [
    {
      "cell_type": "markdown",
      "metadata": {},
      "source": [
        "\n# 10-kVA grid following converter, power control\n    \nThis example simulates a grid following controlled converter connected to a\nstrong grid. The control system includes a phase-locked loop (PLL) to\nsynchronize with the grid, a current reference generatior and a PI-based\ncurrent controller.\n"
      ]
    },
    {
      "cell_type": "markdown",
      "metadata": {},
      "source": [
        "Imports.\n\n"
      ]
    },
    {
      "cell_type": "code",
      "execution_count": null,
      "metadata": {
        "collapsed": false
      },
      "outputs": [],
      "source": [
        "import numpy as np\nfrom gritulator import model, control\nfrom gritulator import BaseValuesElectrical, plot_grid\n\n# To check the computation time of the program\nimport time\nstart_time = time.time()"
      ]
    },
    {
      "cell_type": "markdown",
      "metadata": {},
      "source": [
        "Compute base values based on the nominal values (just for figures).\n\n"
      ]
    },
    {
      "cell_type": "code",
      "execution_count": null,
      "metadata": {
        "collapsed": false
      },
      "outputs": [],
      "source": [
        "base_values = BaseValuesElectrical(\n    U_nom=400, I_nom=14.5, f_nom=50.0, P_nom=10e3)"
      ]
    },
    {
      "cell_type": "markdown",
      "metadata": {},
      "source": [
        "Create the system model.\n\n"
      ]
    },
    {
      "cell_type": "code",
      "execution_count": null,
      "metadata": {
        "collapsed": false
      },
      "outputs": [],
      "source": [
        "# grid impedance and filter model\ngrid_filter = model.LFilter(L_f=10e-3, L_g=0, R_g=0)\n# AC grid model (either constant frequency or dynamic electromechanical model)\ngrid_model = model.StiffSource(w_N=2*np.pi*50)\nconverter = model.Inverter(u_dc=650)\nmdl = model.ac_grid.StiffSourceAndLFilterModel(\n    grid_filter, grid_model, converter)"
      ]
    },
    {
      "cell_type": "markdown",
      "metadata": {},
      "source": [
        "Configure the control system.\n\n"
      ]
    },
    {
      "cell_type": "code",
      "execution_count": null,
      "metadata": {
        "collapsed": false
      },
      "outputs": [],
      "source": [
        "# Control parameters\npars = control.grid_following.GridFollowingCtrlPars(\n            L_f=10e-3,\n            f_sw = 5e3,\n            T_s = 1/(10e3),\n            i_max = 1.5*base_values.i,\n            )\nctrl = control.grid_following.GridFollowingCtrl(pars)"
      ]
    },
    {
      "cell_type": "markdown",
      "metadata": {},
      "source": [
        "Set the time-dependent reference and disturbance signals.\n\n"
      ]
    },
    {
      "cell_type": "code",
      "execution_count": null,
      "metadata": {
        "collapsed": false
      },
      "outputs": [],
      "source": [
        "# Set the active and reactive power references\nctrl.p_g_ref = lambda t: (t > .02)*(5e3)\nctrl.q_g_ref = lambda t: (t > .04)*(4e3)\n\n# AC-voltage magnitude (to simulate voltage dips or short-circuits)\ne_g_abs_var =  lambda t: np.sqrt(2/3)*400\nmdl.grid_model.e_g_abs = e_g_abs_var # grid voltage magnitude"
      ]
    },
    {
      "cell_type": "markdown",
      "metadata": {},
      "source": [
        "Create the simulation object and simulate it.\n\n"
      ]
    },
    {
      "cell_type": "code",
      "execution_count": null,
      "metadata": {
        "collapsed": false
      },
      "outputs": [],
      "source": [
        "sim = model.Simulation(mdl, ctrl, pwm=False)\nsim.simulate(t_stop = .1)\n\n# Print the execution time\nprint('\\nExecution time: {:.2f} s'.format((time.time() - start_time)))"
      ]
    },
    {
      "cell_type": "markdown",
      "metadata": {},
      "source": [
        "Plot results in SI or per unit values.\n\n"
      ]
    },
    {
      "cell_type": "code",
      "execution_count": null,
      "metadata": {
        "collapsed": false
      },
      "outputs": [],
      "source": [
        "plot_grid(sim, base=base_values,plot_pcc_voltage=True)"
      ]
    }
  ],
  "metadata": {
    "kernelspec": {
      "display_name": "Python 3",
      "language": "python",
      "name": "python3"
    },
    "language_info": {
      "codemirror_mode": {
        "name": "ipython",
        "version": 3
      },
      "file_extension": ".py",
      "mimetype": "text/x-python",
      "name": "python",
      "nbconvert_exporter": "python",
      "pygments_lexer": "ipython3",
      "version": "3.8.2"
    }
  },
  "nbformat": 4,
  "nbformat_minor": 0
}