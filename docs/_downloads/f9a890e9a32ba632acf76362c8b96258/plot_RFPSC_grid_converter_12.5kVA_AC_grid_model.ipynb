{
  "cells": [
    {
      "cell_type": "markdown",
      "metadata": {},
      "source": [
        "\n# 12.5-kVA grid forming converter(RFPSC), with electromechanical grid model.\n    \nThis example simulates a grid forming controlled converter connected to a\nweak grid. The control system includes a power synchronization loop (PSL) to\nsynchronize with the grid, an inner P_type current controller used to damp the\ncurrent oscillations enhanced with a reference-feedforward term. The converter\nis connected to an AC grid with electromechanical dynamics through an LCL\nfilter and an inductive impedance.\n"
      ]
    },
    {
      "cell_type": "markdown",
      "metadata": {},
      "source": [
        "Imports.\n\n"
      ]
    },
    {
      "cell_type": "code",
      "execution_count": null,
      "metadata": {
        "collapsed": false
      },
      "outputs": [],
      "source": [
        "import numpy as np\nfrom gritulator import model, control\nfrom gritulator import BaseValuesElectrical, plot_grid\n\n# To check the computation time of the program\nimport time\nstart_time = time.time()"
      ]
    },
    {
      "cell_type": "markdown",
      "metadata": {},
      "source": [
        "Compute base values based on the nominal values (just for figures).\n\n"
      ]
    },
    {
      "cell_type": "code",
      "execution_count": null,
      "metadata": {
        "collapsed": false
      },
      "outputs": [],
      "source": [
        "base_values = BaseValuesElectrical(\n    U_nom=400, I_nom=18, f_nom=50.0, P_nom=12.5e3)"
      ]
    },
    {
      "cell_type": "markdown",
      "metadata": {},
      "source": [
        "Configure the system model (grid model).\n\n"
      ]
    },
    {
      "cell_type": "code",
      "execution_count": null,
      "metadata": {
        "collapsed": false
      },
      "outputs": [],
      "source": [
        "grid_filter = model.LCLFilter(L_fc=3e-3, C_f=10e-6, L_fg=3e-3, L_g=20e-3, R_g=0)\ngrid_model = model.FlexSource(w_N=2*np.pi*50, S_grid=500e3, H_g=2, r_d = 0.05)\nconverter = model.Inverter(u_dc=650)\n    \nmdl = model.ac_grid.ACFlexSourceAndLCLFilterModel(grid_filter, grid_model, converter)\n\npars = control.grid_forming.PSCCtrlPars(\n        L_f=3e-3,\n        R_f=0,\n        f_sw = 5e3,\n        T_s = 1/(10e3),\n        on_rf=True,\n        on_v_dc=False,\n        i_max = 1.5*base_values.i,\n        w_0_cc = 2*np.pi*5,\n        R_a = .2*base_values.Z)\nctrl = control.grid_forming.PSCCtrl(pars)"
      ]
    },
    {
      "cell_type": "markdown",
      "metadata": {},
      "source": [
        "Set the time-dependent reference and disturbance signals.\n\n"
      ]
    },
    {
      "cell_type": "code",
      "execution_count": null,
      "metadata": {
        "collapsed": false
      },
      "outputs": [],
      "source": [
        "# Set the active power reference\nctrl.p_g_ref = lambda t: ((t > .2)*(6.25e3))\n\n# AC-voltage magnitude (to simulate voltage dips or short-circuits)\ne_g_abs_var =  lambda t: np.sqrt(2/3)*400\nmdl.grid_model.e_g_abs = e_g_abs_var # grid voltage magnitude\n\n# AC grid electromechanical model\nmdl.grid_model.p_e = lambda t: (t > .4)*50e3 # load disturbance in the AC grid\nmdl.grid_model.p_m_ref = lambda t: 0 # mechanical power reference\n\n# Create the simulation object and simulate it\nsim = model.Simulation(mdl, ctrl, pwm=False)\nsim.simulate(t_stop = 6)\n\n# Print the execution time\nprint('\\nExecution time: {:.2f} s'.format((time.time() - start_time)))"
      ]
    },
    {
      "cell_type": "markdown",
      "metadata": {},
      "source": [
        "Plot results in SI or per unit values.\n\n"
      ]
    },
    {
      "cell_type": "code",
      "execution_count": null,
      "metadata": {
        "collapsed": false
      },
      "outputs": [],
      "source": [
        "plot_grid(sim, base=base_values, plot_pcc_voltage=True)"
      ]
    }
  ],
  "metadata": {
    "kernelspec": {
      "display_name": "Python 3",
      "language": "python",
      "name": "python3"
    },
    "language_info": {
      "codemirror_mode": {
        "name": "ipython",
        "version": 3
      },
      "file_extension": ".py",
      "mimetype": "text/x-python",
      "name": "python",
      "nbconvert_exporter": "python",
      "pygments_lexer": "ipython3",
      "version": "3.8.2"
    }
  },
  "nbformat": 4,
  "nbformat_minor": 0
}