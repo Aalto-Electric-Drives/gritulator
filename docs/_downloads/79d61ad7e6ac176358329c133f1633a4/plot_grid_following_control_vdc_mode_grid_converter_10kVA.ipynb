{
  "cells": [
    {
      "cell_type": "markdown",
      "metadata": {},
      "source": [
        "\n# 10-kVA grid following converter, dc-bus voltage control\n    \nThis example simulates a grid following controlled converter connected to a\nstrong grid and regulating the dc-bus voltage at the same time. The control\nsystem includes a DC-bus voltage controller, a phase-locked loop (PLL) to\nsynchronize with the grid, a current reference generatior and a PI-based\ncurrent controller.\n"
      ]
    },
    {
      "cell_type": "markdown",
      "metadata": {},
      "source": [
        "Imports.\n\n"
      ]
    },
    {
      "cell_type": "code",
      "execution_count": null,
      "metadata": {
        "collapsed": false
      },
      "outputs": [],
      "source": [
        "import numpy as np\nfrom gritulator import model, control\nfrom gritulator import BaseValuesElectrical, plot_grid\n\n# To check the computation time of the program\nimport time\nstart_time = time.time()"
      ]
    },
    {
      "cell_type": "markdown",
      "metadata": {},
      "source": [
        "Compute base values based on the nominal values (just for figures).\n\n"
      ]
    },
    {
      "cell_type": "code",
      "execution_count": null,
      "metadata": {
        "collapsed": false
      },
      "outputs": [],
      "source": [
        "base_values = BaseValuesElectrical(\n    U_nom=400, I_nom=14.5, f_nom=50.0, P_nom=10e3)"
      ]
    },
    {
      "cell_type": "markdown",
      "metadata": {},
      "source": [
        "Create the system model.\n\n"
      ]
    },
    {
      "cell_type": "code",
      "execution_count": null,
      "metadata": {
        "collapsed": false
      },
      "outputs": [],
      "source": [
        "# grid impedance and filter model\ngrid_filter = model.LFilter(L_f=10e-3, L_g=0, R_g=0)\n# AC grid model (either constant frequency or dynamic electromechanical model)\ngrid_model = model.StiffSource(w_N=2*np.pi*50)\n# DC-bus dynamic model\ndc_model = model.dc_bus.DCBus(C_dc = 1e-3, u_dc0=600, G_dc=0)\nconverter = model.Inverter(u_dc=600)\n\n# if you do not want to simulate any DC bus dynamics, you should define:\n# dc_model = None\n# This would make the DC voltage constant, using the value given from the\n# converter model. Do not forget to deactivate the dc-bus control in this case.\n    \nif dc_model == None:\n    mdl = model.ac_grid.StiffSourceAndLFilterModel(\n        grid_filter, grid_model, converter)\nelse:\n    mdl = model.dc_bus.DCBusAndLFilterModel(\n        grid_filter, grid_model, dc_model, converter)"
      ]
    },
    {
      "cell_type": "markdown",
      "metadata": {},
      "source": [
        "Configure the control system.\n\n"
      ]
    },
    {
      "cell_type": "code",
      "execution_count": null,
      "metadata": {
        "collapsed": false
      },
      "outputs": [],
      "source": [
        "# Control parameters\npars = control.grid_following.GridFollowingCtrlPars(\n            L_f=10e-3,\n            R_f=0,\n            C_dc = 1e-3,\n            f_sw = 8e3,\n            T_s = 1/(16e3),\n            on_v_dc=True,\n            i_max = 1.5*base_values.i,\n            p_max = base_values.p,\n            )\nctrl = control.grid_following.GridFollowingCtrl(pars)"
      ]
    },
    {
      "cell_type": "markdown",
      "metadata": {},
      "source": [
        "Set the time-dependent reference and disturbance signals.\n\n"
      ]
    },
    {
      "cell_type": "code",
      "execution_count": null,
      "metadata": {
        "collapsed": false
      },
      "outputs": [],
      "source": [
        "# Set the reactive power reference\nctrl.q_g_ref = lambda t: (t > .04)*(4e3)\n\n# DC-bus external current disturbance\nif dc_model != None:\n    mdl.dc_model.i_ext = lambda t: (t > .06)*(10)\n\n# AC-voltage magnitude (to simulate voltage dips or short-circuits)\ne_g_abs_var =  lambda t: np.sqrt(2/3)*400\nmdl.grid_model.e_g_abs = e_g_abs_var # grid voltage magnitude\n\n# DC voltage reference\nctrl.u_dc_ref = lambda t: 600 + (t > .02)*(50)"
      ]
    },
    {
      "cell_type": "markdown",
      "metadata": {},
      "source": [
        "Create the simulation object and simulate it.\n\n"
      ]
    },
    {
      "cell_type": "code",
      "execution_count": null,
      "metadata": {
        "collapsed": false
      },
      "outputs": [],
      "source": [
        "sim = model.Simulation(mdl, ctrl, pwm=False)\nsim.simulate(t_stop = .1)\n\n# Print the execution time\nprint('\\nExecution time: {:.2f} s'.format((time.time() - start_time)))"
      ]
    },
    {
      "cell_type": "markdown",
      "metadata": {},
      "source": [
        "Plot results in SI or per unit values.\n\n"
      ]
    },
    {
      "cell_type": "code",
      "execution_count": null,
      "metadata": {
        "collapsed": false
      },
      "outputs": [],
      "source": [
        "plot_grid(sim, base=None)"
      ]
    }
  ],
  "metadata": {
    "kernelspec": {
      "display_name": "Python 3",
      "language": "python",
      "name": "python3"
    },
    "language_info": {
      "codemirror_mode": {
        "name": "ipython",
        "version": 3
      },
      "file_extension": ".py",
      "mimetype": "text/x-python",
      "name": "python",
      "nbconvert_exporter": "python",
      "pygments_lexer": "ipython3",
      "version": "3.8.2"
    }
  },
  "nbformat": 4,
  "nbformat_minor": 0
}