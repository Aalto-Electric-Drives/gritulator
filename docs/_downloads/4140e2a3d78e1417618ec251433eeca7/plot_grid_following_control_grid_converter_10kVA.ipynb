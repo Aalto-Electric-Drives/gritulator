{
  "cells": [
    {
      "cell_type": "markdown",
      "metadata": {},
      "source": [
        "\nExample simulation script: 10-kVA grid converter connected to a symmetrical\nthree-phase AC voltage source (grid) through an inductive filter.\n    \nThe control system includes\n    - Phase-Locked Loop (PLL) to synchronize with the grid;\n    - Current reference generation;\n    - Proportional-integral (PI) vector current controller\n"
      ]
    },
    {
      "cell_type": "markdown",
      "metadata": {},
      "source": [
        "Import the packages.\n\n"
      ]
    },
    {
      "cell_type": "code",
      "execution_count": null,
      "metadata": {
        "collapsed": false
      },
      "outputs": [],
      "source": [
        "import numpy as np\nfrom motulator import model, control\nfrom motulator import BaseValuesElectrical, plot_grid\n\n# To check the computation time of the program\nimport time\nstart_time = time.time()"
      ]
    },
    {
      "cell_type": "markdown",
      "metadata": {},
      "source": [
        "Compute base values based on the nominal values (just for figures).\n\n"
      ]
    },
    {
      "cell_type": "code",
      "execution_count": null,
      "metadata": {
        "collapsed": false
      },
      "outputs": [],
      "source": [
        "base_values = BaseValuesElectrical(\n    U_nom=400, I_nom=14.5, f_nom=50.0, P_nom=10e3)"
      ]
    },
    {
      "cell_type": "markdown",
      "metadata": {},
      "source": [
        "Configure the system model\n\n"
      ]
    },
    {
      "cell_type": "code",
      "execution_count": null,
      "metadata": {
        "collapsed": false
      },
      "outputs": [],
      "source": [
        "grid_filter = model.LFilter(L_f=10e-3, L_g=0, R_g=0)\ngrid_model = model.StiffSource(w_N=2*np.pi*50)\nconverter = model.Inverter(u_dc=650)\n\nmdl = model.ac_grid.StiffSourceAndLFilterModel(\n    grid_filter, grid_model, converter)\n\npars = control.gfl.GridFollowingCtrlPars(\n            L_f=10e-3,\n            R_f=0,\n            f_sw = 5e3,\n            T_s = 1/(10e3),\n            I_max = 1.5*base_values.i,\n            )\nctrl = control.gfl.GridFollowingCtrl(pars)"
      ]
    },
    {
      "cell_type": "code",
      "execution_count": null,
      "metadata": {
        "collapsed": false
      },
      "outputs": [],
      "source": [
        "# Set the active and reactive power references\n# that are inputs to the control system\nctrl.p_g_ref = lambda t: (t > .02)*(5e3)\nctrl.q_g_ref = lambda t: (t > .04)*(4e3)\n\n# AC-voltage magnitude (to simulate voltage dips or short-circuits)\ne_g_abs_var =  lambda t: np.sqrt(2/3)*400\nmdl.grid_model.e_g_abs = e_g_abs_var # grid voltage magnitude\n\n# Create the simulation object and simulate it\nsim = model.Simulation(mdl, ctrl, pwm=False)\nsim.simulate(t_stop = .1)\n\n# Print the execution time\nprint('\\nExecution time: {:.2f} s'.format((time.time() - start_time)))\n\n# Plot results in SI or per unit values\nplot_grid(sim, base=base_values,plot_pcc_voltage=True)"
      ]
    }
  ],
  "metadata": {
    "kernelspec": {
      "display_name": "Python 3",
      "language": "python",
      "name": "python3"
    },
    "language_info": {
      "codemirror_mode": {
        "name": "ipython",
        "version": 3
      },
      "file_extension": ".py",
      "mimetype": "text/x-python",
      "name": "python",
      "nbconvert_exporter": "python",
      "pygments_lexer": "ipython3",
      "version": "3.8.2"
    }
  },
  "nbformat": 4,
  "nbformat_minor": 0
}