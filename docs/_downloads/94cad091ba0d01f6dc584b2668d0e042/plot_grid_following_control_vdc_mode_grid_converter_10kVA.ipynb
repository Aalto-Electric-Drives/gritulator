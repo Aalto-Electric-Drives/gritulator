{
  "cells": [
    {
      "cell_type": "markdown",
      "metadata": {},
      "source": [
        "\nExample simulation script: 10-kVA grid converter connected to a symmetrical\nthree-phase AC voltage source (grid) through an inductive filter.\n    \nThe control system includes\n    - DC-bus voltage controller;\n    - Phase-Locked Loop (PLL) to synchronize with the grid;\n    - Current reference generation;\n    - Proportional-integral (PI) vector current controller\n"
      ]
    },
    {
      "cell_type": "markdown",
      "metadata": {},
      "source": [
        "Import the packages.\n\n"
      ]
    },
    {
      "cell_type": "code",
      "execution_count": null,
      "metadata": {
        "collapsed": false
      },
      "outputs": [],
      "source": [
        "import numpy as np\nfrom motulator import model, control\nfrom motulator import BaseValuesElectrical, plot_grid\n\n# To check the computation time of the program\nimport time\nstart_time = time.time()"
      ]
    },
    {
      "cell_type": "markdown",
      "metadata": {},
      "source": [
        "Compute base values based on the nominal values (just for figures).\n\n"
      ]
    },
    {
      "cell_type": "code",
      "execution_count": null,
      "metadata": {
        "collapsed": false
      },
      "outputs": [],
      "source": [
        "base_values = BaseValuesElectrical(\n    U_nom=400, I_nom=14.5, f_nom=50.0, P_nom=10e3)"
      ]
    },
    {
      "cell_type": "markdown",
      "metadata": {},
      "source": [
        "Configure the system model (grid model)\n\n"
      ]
    },
    {
      "cell_type": "code",
      "execution_count": null,
      "metadata": {
        "collapsed": false
      },
      "outputs": [],
      "source": [
        "grid_filter = model.LFilter(L_f=10e-3, L_g=0, R_g=0)\ngrid_model = model.StiffSource(w_N=2*np.pi*50)\ndc_model = model.dc_bus.DCBus(C_dc = 1e-3, u_dc0=600, G_dc=0)\nconverter = model.Inverter(u_dc=650)\n\"\"\"\nREMARK:\n    if you do not want to simulate any DC bus dynamics, you should define\n    dc_model = None. This would make the DC voltage constant, using the\n    value given in the converter model.\n    Do not forget also to activate/deactivate the dc-bus control.\n\"\"\"\n    \nif dc_model == None:\n    mdl = model.ac_grid.StiffSourceAndLFilterModel(\n        grid_filter, grid_model, converter)\nelse:\n    mdl = model.dc_bus.DCBusAndLFilterModel(\n        grid_filter, grid_model, dc_model, converter)\n\npars = control.gfl.GridFollowingCtrlPars(\n            L_f=10e-3,\n            R_f=0,\n            C_dc = 1e-3,\n            f_sw = 8e3,\n            T_s = 1/(16e3),\n            on_v_dc=True,\n            I_max = 1.5*base_values.i,\n            p_max = base_values.p,\n            )\nctrl = control.gfl.GridFollowingCtrl(pars)"
      ]
    },
    {
      "cell_type": "code",
      "execution_count": null,
      "metadata": {
        "collapsed": false
      },
      "outputs": [],
      "source": [
        "# Set the reactive power reference\nctrl.q_g_ref = lambda t: (t > .04)*(4e3)\n\n# DC-side current (seen as a disturbance from the converter perspective)\nif dc_model != None:\n    mdl.dc_model.i_ext = lambda t: (t > .06)*(10)\n\n# AC-voltage magnitude (to simulate voltage dips or short-circuits)\ne_g_abs_var =  lambda t: np.sqrt(2/3)*400\nmdl.grid_model.e_g_abs = e_g_abs_var # grid voltage magnitude\n\n# DC voltage reference\nctrl.u_dc_ref = lambda t: 600 + (t > .02)*(50)\n\n# Create the simulation object and simulate it\nsim = model.Simulation(mdl, ctrl, pwm=False)\nsim.simulate(t_stop = .1)\n\n# Print the execution time\nprint('\\nExecution time: {:.2f} s'.format((time.time() - start_time)))\n\n# Plot results in SI or per unit values\nplot_grid(sim, base=None)"
      ]
    }
  ],
  "metadata": {
    "kernelspec": {
      "display_name": "Python 3",
      "language": "python",
      "name": "python3"
    },
    "language_info": {
      "codemirror_mode": {
        "name": "ipython",
        "version": 3
      },
      "file_extension": ".py",
      "mimetype": "text/x-python",
      "name": "python",
      "nbconvert_exporter": "python",
      "pygments_lexer": "ipython3",
      "version": "3.8.2"
    }
  },
  "nbformat": 4,
  "nbformat_minor": 0
}